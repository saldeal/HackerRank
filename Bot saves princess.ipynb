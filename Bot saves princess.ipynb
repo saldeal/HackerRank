{
 "cells": [
  {
   "cell_type": "code",
   "execution_count": 34,
   "metadata": {},
   "outputs": [],
   "source": [
    "#!/bin/python\n",
    "def displayPathtoPrincess(n,grid):\n",
    "    \"\"\"Prints the list of moves necessary for the bot to reach the princess.\n",
    "    \n",
    "    Arguments:\n",
    "    - n: Size of the grid: NxN\n",
    "    - grid: Array NxN (formatted as a grid) with the positions of the bot and the princess\n",
    "    \"\"\"\n",
    "    \n",
    "    # Variables to keep positions and flags for detection\n",
    "    princess_pos = 0\n",
    "    bot_pos = 0\n",
    "    princess_found = False\n",
    "    bot_found = False\n",
    "    \n",
    "    # Find the bot and the princess\n",
    "    for i, row in enumerate(grid):\n",
    "        if princess_found and bot_found:\n",
    "            break\n",
    "        if  'p' in row: \n",
    "            princess_pos = (i, row.index('p'))\n",
    "            princess_found = True\n",
    "        if  'm' in row: \n",
    "            bot_pos = (i, row.index('m'))\n",
    "            bot_found = True\n",
    "      \n",
    "    # Calculate distante between positions\n",
    "    dist_x = bot_pos[0] - princess_pos[0]  # Positive: \"UP\". Negative: \"DOWN\"\n",
    "    dist_y = bot_pos[1] - princess_pos[1]  # Positive: \"LEFT\". Negative: \"RIGHT\"\n",
    "    \n",
    "    print(dist_x)\n",
    "    print(dist_y)\n",
    "    \n",
    "    # Print list of moves. As many as the distance tells\n",
    "    return ''.join([\n",
    "        'UP\\n' * abs(dist_x) if dist_x > 0 else 'DOWN\\n' * abs(dist_x),\n",
    "        'LEFT\\n' * abs(dist_y) if dist_y > 0 else 'RIGHT\\n' * abs(dist_y)\n",
    "        ])"
   ]
  },
  {
   "cell_type": "code",
   "execution_count": 36,
   "metadata": {},
   "outputs": [
    {
     "name": "stdout",
     "output_type": "stream",
     "text": [
      "3\n",
      "---\n",
      "-m-\n",
      "p--\n",
      "-1\n",
      "1\n",
      "DOWN\n",
      "LEFT\n",
      "\n"
     ]
    }
   ],
   "source": [
    "m = input()\n",
    "\n",
    "grid = []\n",
    "for i in xrange(0, m):\n",
    "    grid.append(raw_input().strip())\n",
    "\n",
    "print displayPathtoPrincess(m,grid)"
   ]
  },
  {
   "cell_type": "markdown",
   "metadata": {},
   "source": [
    "3\n",
    "---\n",
    "-m-\n",
    "p--"
   ]
  },
  {
   "cell_type": "code",
   "execution_count": null,
   "metadata": {},
   "outputs": [],
   "source": []
  },
  {
   "cell_type": "code",
   "execution_count": null,
   "metadata": {
    "collapsed": true
   },
   "outputs": [],
   "source": []
  }
 ],
 "metadata": {
  "kernelspec": {
   "display_name": "Python [default]",
   "language": "python",
   "name": "python2"
  },
  "language_info": {
   "codemirror_mode": {
    "name": "ipython",
    "version": 2
   },
   "file_extension": ".py",
   "mimetype": "text/x-python",
   "name": "python",
   "nbconvert_exporter": "python",
   "pygments_lexer": "ipython2",
   "version": "2.7.13"
  }
 },
 "nbformat": 4,
 "nbformat_minor": 2
}
