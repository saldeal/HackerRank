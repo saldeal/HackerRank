{
 "cells": [
  {
   "cell_type": "markdown",
   "metadata": {},
   "source": [
    "# Array manipulation\n",
    "\n",
    "Link: https://www.hackerrank.com/challenges/crush/problem \n",
    "\n",
    "You are given a list(1-indexed) of size n , initialized with zeroes. You have to perform m operations on the list and output the maximum of final values of all the n elements in the list. For every operation, you are given three integers a, b, and k you have to add value k to all the elements ranging from index a to b (both inclusive).\n",
    "\n",
    "**Input Format**\n",
    "\n",
    "The first line will contain two integers n and m separated by a single space.\n",
    "\n",
    "Next lines will contain three integers a, b, and k separated by a single space.\n",
    "\n",
    "Numbers in list are numbered from 1 to n.\n",
    "\n",
    "**Output Format**\n",
    "\n",
    "Print in a single line the maximum value in the updated list.\n",
    "\n",
    "**Sample input**\n",
    "```\n",
    "5 3\n",
    "1 2 100\n",
    "2 5 100\n",
    "3 4 100\n",
    "```\n",
    "**Sample output**\n",
    "```\n",
    "200\n",
    "```\n",
    "\n",
    "**Explanation**\n",
    "\n",
    "```\n",
    "After first update list will be 100 100 0 0 0.\n",
    "After second update list will be 100 200 100 100 100.\n",
    "After third update list will be 100 200 200 200 100.\n",
    "So the required answer will be 200.\n",
    "```"
   ]
  },
  {
   "cell_type": "markdown",
   "metadata": {},
   "source": [
    "## Solution 1: Naïve approach\n",
    "**Complexity: O(MN)**. O(M) for the outer loop. O(N/2) on average for the inner loop. O(N) to find the max value later."
   ]
  },
  {
   "cell_type": "code",
   "execution_count": 51,
   "metadata": {
    "collapsed": true
   },
   "outputs": [],
   "source": [
    "def zero_array(size):\n",
    "    \"\"\"Returns an array full of zeros\"\"\"\n",
    "    return [0] * size\n",
    "    \n",
    "def list_max(n, m, operations):\n",
    "    \"\"\"Performs a list of m operations over an array of length n\n",
    "    \n",
    "    Arguments:\n",
    "    n: Size of the array. Integer\n",
    "    m: Number of operations. Integer\n",
    "    operations: List of operations. Format: ind_a ind_b value.\n",
    "    \n",
    "    At each operation, 'value' has to be added to all inclusive elements between ind_a and ind_b\n",
    "    \n",
    "    returns: Max value in the list\n",
    "    \"\"\"\n",
    "    \n",
    "    # Initialise the list to all zeros\n",
    "    l = zero_array(n)\n",
    "    \n",
    "    for o in operations:\n",
    "        # Parse the operation. Correct indexes as python indices start at 0\n",
    "        ind_a = int(o[0]) - 1\n",
    "        ind_b = int(o[1]) - 1\n",
    "        value = int(o[2])\n",
    "        \n",
    "        # Sum value\n",
    "        for i in range(ind_a, ind_b + 1):\n",
    "            l[i] += value\n",
    "    \n",
    "    # Find the max value\n",
    "    return max(l)"
   ]
  },
  {
   "cell_type": "markdown",
   "metadata": {},
   "source": [
    "## Solution 2: Smarter approach\n",
    "* Based on Prefix Sum array: https://wcipeg.com/wiki/Prefix_sum_array_and_difference_array\n",
    "\n",
    "Instead of building the array with the actual values, we implement a Prefix sum array. In such array, every element contains the difference with respect to the previous one. The first one is the initial value.\n",
    "\n",
    "With each operation, 'value' is added to the first element (ind_a), and substracted from (ind_b + 1).\n",
    "We don't need to add values to other elements as the differences between the inner elements of the given range will remain the same.\n",
    "\n",
    "Later, to find the max value, we only need to sum the array values and keep the max.\n",
    "\n",
    "**Complexity: O(m + n)**. O(m) to build the prefix sum array, and O(n) to find the max"
   ]
  },
  {
   "cell_type": "code",
   "execution_count": 54,
   "metadata": {
    "collapsed": true
   },
   "outputs": [],
   "source": [
    "def zero_array(size):\n",
    "    \"\"\"Returns an array full of zeros\"\"\"\n",
    "    return [0] * size\n",
    "    \n",
    "def list_max(n, m, operations):\n",
    "    \"\"\"Performs a list of m operations over an array of length n\n",
    "    \n",
    "    Arguments:\n",
    "    n: Size of the array. Integer\n",
    "    m: Number of operations. Integer\n",
    "    operations: List of operations. Format: ind_a ind_b value.\n",
    "    \n",
    "    With each operation, 'value' is added to the first element (ind_a), and substracted from (ind_b + 1)\n",
    "    \n",
    "    return: Max value in the list\n",
    "    \"\"\"\n",
    "    \n",
    "    # Initialise the list to all zeros\n",
    "    l = zero_array(n+1)\n",
    "    \n",
    "    for o in operations:\n",
    "        # Parse the operation. Correct indexes as python indices start at 0\n",
    "        ind_a = int(o[0]) - 1\n",
    "        ind_b = int(o[1]) - 1\n",
    "        value = int(o[2])\n",
    "        \n",
    "        # Update the prefix sum array\n",
    "        l[ind_a] += value            # Add difference (value) with respect previous value to ind_a\n",
    "        if ((ind_b+1) <= len(l)):\n",
    "            l[ind_b+1] -= value      # Substract value to the next element to ind_b\n",
    "    \n",
    "    # Find the max value by adding the differences and keeping the max\n",
    "    max_value = 0\n",
    "    acc_value = 0\n",
    "    for i in l:\n",
    "        acc_value = acc_value + i;\n",
    "        if(max_value < acc_value): \n",
    "            max_value = acc_value\n",
    "            \n",
    "    return max_value"
   ]
  },
  {
   "cell_type": "markdown",
   "metadata": {},
   "source": [
    "## Read functions"
   ]
  },
  {
   "cell_type": "code",
   "execution_count": 20,
   "metadata": {},
   "outputs": [],
   "source": [
    "def read_values(source='stdin'):\n",
    "    \"\"\"Read inputs from a file, or STDIN\"\"\"\n",
    "    \n",
    "    n, m = 0, 0\n",
    "    operations = []\n",
    "    \n",
    "    if source == 'stdin':\n",
    "        n, m = [int(i) for i in raw_input().strip().split()]\n",
    "        for data in range(m):\n",
    "            temp = raw_input().strip().split()\n",
    "            operations.append(temp)\n",
    "    else:\n",
    "        with open(source, 'r') as f:\n",
    "            n, m = [int(i) for i in f.readline().strip().split()]\n",
    "            # Read operations\n",
    "            for i in range(m):\n",
    "                temp = f.readline().strip().split()\n",
    "                operations.append(temp)\n",
    "    \n",
    "    return n, m, operations"
   ]
  },
  {
   "cell_type": "code",
   "execution_count": 32,
   "metadata": {},
   "outputs": [],
   "source": [
    "n, m, operations = read_values('listmax-testcase1.txt')\n",
    "#n, m, operations = read_values()"
   ]
  },
  {
   "cell_type": "code",
   "execution_count": 55,
   "metadata": {},
   "outputs": [
    {
     "name": "stdout",
     "output_type": "stream",
     "text": [
      "200\n"
     ]
    }
   ],
   "source": [
    "print(list_max(n, m, operations))"
   ]
  },
  {
   "cell_type": "code",
   "execution_count": null,
   "metadata": {
    "collapsed": true
   },
   "outputs": [],
   "source": []
  }
 ],
 "metadata": {
  "kernelspec": {
   "display_name": "Python [default]",
   "language": "python",
   "name": "python2"
  },
  "language_info": {
   "codemirror_mode": {
    "name": "ipython",
    "version": 2
   },
   "file_extension": ".py",
   "mimetype": "text/x-python",
   "name": "python",
   "nbconvert_exporter": "python",
   "pygments_lexer": "ipython2",
   "version": "2.7.13"
  }
 },
 "nbformat": 4,
 "nbformat_minor": 2
}
