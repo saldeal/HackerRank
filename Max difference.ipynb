{
 "cells": [
  {
   "cell_type": "markdown",
   "metadata": {
    "collapsed": true
   },
   "source": [
    "# Max difference\n",
    "\n",
    "Given an array arr[] of integers, find out the difference between any two elements such that larger element appears after the smaller number in arr[].\n",
    "\n",
    "Examples: If array is [2, 3, 10, 6, 4, 8, 1] then returned value should be 8 (Diff between 10 and 2). If array is [ 7, 9, 5, 6, 3, 2 ] then returned value should be 2 (Diff between 7 and 9)\n",
    "\n",
    "**Sample input**\n",
    "```\n",
    "7\n",
    "2\n",
    "3\n",
    "10\n",
    "2\n",
    "4\n",
    "8\n",
    "1\n",
    "```\n",
    "**Sample output**\n",
    "```\n",
    "8\n",
    "```"
   ]
  },
  {
   "cell_type": "markdown",
   "metadata": {},
   "source": [
    "## Solution 1: Naïve approach"
   ]
  },
  {
   "cell_type": "code",
   "execution_count": 1,
   "metadata": {
    "collapsed": true
   },
   "outputs": [],
   "source": [
    "def maxDifference(a):\n",
    "    \"\"\"Finds the maximum difference between two numbers a[i] and a[j] in an array, given i < j\n",
    "    Arguments:\n",
    "    a: Array with numbers. Array of integers, being the first one the size of the array\n",
    "    \n",
    "    Returns: Max difference. Integer    \n",
    "    \"\"\"\n",
    "    \n",
    "    # Instead of finding the maximum value and then the min value from the subarray to its left,\n",
    "    # we will traverse the array only once, since we have the condition (i < j).\n",
    "    # Once we find the max. value, even if there are other min to the right, the algorithm will not\n",
    "    # calculate differences again.\n",
    "    \n",
    "    # Initialise min and max to the first element\n",
    "    # Find the max value in the array\n",
    "    min_value = a[0]\n",
    "    max_value = a[0]\n",
    "    max_diff = -1\n",
    "    \n",
    "    # Iterate through the list (1st element is actually the size)\n",
    "    for n in a[1:]:\n",
    "        # new min?\n",
    "        min_value = min(n, min_value)\n",
    "        \n",
    "        # new max?\n",
    "        if (n > max_value):\n",
    "            max_value = n\n",
    "            max_diff = max(max_diff, max_value - min_value)\n",
    "\n",
    "    return max_diff"
   ]
  },
  {
   "cell_type": "code",
   "execution_count": 7,
   "metadata": {},
   "outputs": [
    {
     "data": {
      "text/plain": [
       "8"
      ]
     },
     "execution_count": 7,
     "metadata": {},
     "output_type": "execute_result"
    }
   ],
   "source": [
    "maxDifference(numbers)"
   ]
  },
  {
   "cell_type": "code",
   "execution_count": 3,
   "metadata": {
    "collapsed": true
   },
   "outputs": [],
   "source": [
    "def read_values(source='stdin'):\n",
    "    \"\"\"Read inputs from a file, or STDIN\"\"\"\n",
    "    \n",
    "    m = 0\n",
    "    numbers = []\n",
    "    \n",
    "    if source == 'stdin':\n",
    "        m = int(raw_input())\n",
    "        for data in range(m):\n",
    "            temp = int(raw_input())\n",
    "            numbers.append(temp)\n",
    "    else:\n",
    "        with open(source, 'r') as f:\n",
    "            m = int(f.readline())\n",
    "            # Read operations\n",
    "            for i in range(m):\n",
    "                temp = int(f.readline())\n",
    "                numbers.append(temp)\n",
    "    \n",
    "    return m, numbers"
   ]
  },
  {
   "cell_type": "code",
   "execution_count": 4,
   "metadata": {},
   "outputs": [],
   "source": [
    "m, numbers = read_values('maxdifference-testcase1.txt')"
   ]
  }
 ],
 "metadata": {
  "kernelspec": {
   "display_name": "Python [default]",
   "language": "python",
   "name": "python2"
  },
  "language_info": {
   "codemirror_mode": {
    "name": "ipython",
    "version": 2
   },
   "file_extension": ".py",
   "mimetype": "text/x-python",
   "name": "python",
   "nbconvert_exporter": "python",
   "pygments_lexer": "ipython2",
   "version": "2.7.13"
  }
 },
 "nbformat": 4,
 "nbformat_minor": 2
}
