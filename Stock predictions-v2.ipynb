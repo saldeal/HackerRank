{
 "cells": [
  {
   "cell_type": "markdown",
   "metadata": {},
   "source": [
    "# Stock predictions"
   ]
  },
  {
   "cell_type": "code",
   "execution_count": 1,
   "metadata": {
    "collapsed": true
   },
   "outputs": [],
   "source": [
    "import numpy as np"
   ]
  },
  {
   "cell_type": "code",
   "execution_count": 35,
   "metadata": {},
   "outputs": [],
   "source": [
    "def last_price_value(prices):\n",
    "    \"\"\"Returns a value between 0 and 1. \n",
    "    The closer to 1, the higher the last value with respect to the trend in the period.\n",
    "    \"\"\"\n",
    "\n",
    "    # Max and min value in the period of 5 days\n",
    "    min_price = prices.min()\n",
    "    max_price = prices.max()\n",
    "    \n",
    "    if (max_price == min_price):\n",
    "        return 0\n",
    "        \n",
    "    return abs(prices[-1] - min_price)/(max_price - min_price)\n",
    "    \n",
    "\n",
    "#!/usr/bin/py\n",
    "def printTransactions(m, k, d, name, owned, prices):\n",
    "    '''Print transations \n",
    "    \n",
    "    Arguments:\n",
    "    m: Float. Money left\n",
    "    k: Integer. Number of stocks\n",
    "    d: Integer. Days left\n",
    "    name: Array of strings. Stock names\n",
    "    owned: Array of integers. Stocks owned \n",
    "    prices: 2d integer array. Prices containing k arrays of length 5\n",
    "    '''\n",
    "    \n",
    "    threshold = 0.7  \n",
    "    transactions = []\n",
    "    prices = np.array(prices)\n",
    "    deviations = prices.std(1) \n",
    "    pending_to_buy = [] # Provisional list of stocks to buy\n",
    "    \n",
    "    # We give higher priority to stocks with higher deviations in the last 5 days\n",
    "    for i in reversed(np.argsort(deviations)): # List of indices in reversed order\n",
    "        # Last price value\n",
    "        rel_value = last_price_value(prices[i])\n",
    "        \n",
    "        # If the relative value of the last price is high, we sell\n",
    "        if (rel_value >= threshold and owned[i] > 0):\n",
    "            transactions.append(name[i] + ' SELL ' + str(owned[i]))\n",
    "        \n",
    "        # If the relative value of the last price is low, we have a potential buy\n",
    "        if (rel_value <=(1-threshold)):\n",
    "            pending_to_buy.append((i, prices[i][-1]))\n",
    "            \n",
    "    # Traverse the list of pending stocks to buy and buy as much as possible (limit is m)\n",
    "    for i, last in pending_to_buy:\n",
    "               \n",
    "        # How many stocks\n",
    "        num_stocks = int(m/last)\n",
    "        if num_stocks:\n",
    "            #print(\"We buy %s, %s stocks, at a price of %s\" % (name[i], str(num_stocks), str(last)))\n",
    "            # Build the transaction\n",
    "            transactions.append(name[i] + ' BUY ' + str(num_stocks))\n",
    "            # Update money left\n",
    "            m -= num_stocks * last\n",
    "        \n",
    "            \n",
    "    print(len(transactions))\n",
    "    for t in transactions:\n",
    "        print(t) \n",
    "        \n",
    "    "
   ]
  },
  {
   "cell_type": "markdown",
   "metadata": {},
   "source": [
    "**Sample Input**\n",
    "\n",
    "```\n",
    "90 2 400\n",
    "iStreet 10 4.54 5.53 6.56 5.54 7.60\n",
    "HR 0 30.54 27.53 24.42 20.11 17.50\n",
    "```\n",
    "\n",
    "**Sample Output**\n",
    "\n",
    "```\n",
    "2\n",
    "iStreet SELL 10\n",
    "HR BUY 5\n",
    "```"
   ]
  },
  {
   "cell_type": "code",
   "execution_count": 20,
   "metadata": {},
   "outputs": [
    {
     "name": "stdout",
     "output_type": "stream",
     "text": [
      "100 10 20\n",
      "CAL 0 121.83 122.26 123.94 122.11 120.58\n",
      "UCB 0 52.34 50.89 47.62 51.16 52.4\n",
      "RIT 0 100.21 99.33 102.87 110.63 110.72\n",
      "UCLA 0 12.5 27.22 9.32 16.07 3.86\n",
      "USC 0 249.58 244.24 242.56 245.13 245.35\n",
      "UFL 0 20.21 19.77 21.34 20.21 21.17\n",
      "UMAD 0 109.39 120.49 131.35 127.97 121.38\n",
      "RICE 0 126.3 128 129.08 129.28 124.44\n",
      "UMD 0 102.96 103.62 98.22 96.6 99.1\n",
      "UCSC 0 213.77 193.51 178.53 180.08 208.29\n"
     ]
    }
   ],
   "source": [
    "m, k, d = [float(i) for i in raw_input().strip().split()]\n",
    "k = int(k)\n",
    "d = int(d)\n",
    "names = []\n",
    "owned = []\n",
    "prices = []\n",
    "for data in range(k):\n",
    "    temp = raw_input().strip().split()\n",
    "    names.append(temp[0])\n",
    "    owned.append(int(temp[1]))\n",
    "    prices.append([float(i) for i in temp[2:7]])"
   ]
  },
  {
   "cell_type": "code",
   "execution_count": 5,
   "metadata": {},
   "outputs": [
    {
     "data": {
      "text/plain": [
       "[[4.54, 5.53, 6.56, 5.54, 7.6], [30.54, 27.53, 24.42, 20.11, 17.5]]"
      ]
     },
     "execution_count": 5,
     "metadata": {},
     "output_type": "execute_result"
    }
   ],
   "source": [
    "prices"
   ]
  },
  {
   "cell_type": "code",
   "execution_count": 34,
   "metadata": {},
   "outputs": [
    {
     "name": "stdout",
     "output_type": "stream",
     "text": [
      "We buy UCLA, 25 stocks, at a price of 3.86\n",
      "1\n",
      "UCLA BUY 25\n"
     ]
    }
   ],
   "source": [
    "printTransactions(m, k, d, names, owned, prices)"
   ]
  },
  {
   "cell_type": "markdown",
   "metadata": {},
   "source": [
    "**Another example**\n",
    "```\n",
    "100 10 20\n",
    "CAL 0 121.83 122.26 123.94 122.11 120.58\n",
    "UCB 0 52.34 50.89 47.62 51.16 52.4\n",
    "RIT 0 100.21 99.33 102.87 110.63 110.72\n",
    "UCLA 0 12.5 27.22 9.32 16.07 3.86\n",
    "USC 0 249.58 244.24 242.56 245.13 245.35\n",
    "UFL 0 20.21 19.77 21.34 20.21 21.17\n",
    "UMAD 0 109.39 120.49 131.35 127.97 121.38\n",
    "RICE 0 126.3 128 129.08 129.28 124.44\n",
    "UMD 0 102.96 103.62 98.22 96.6 99.1\n",
    "UCSC 0 213.77 193.51 178.53 180.08 208.29\n",
    "```"
   ]
  },
  {
   "cell_type": "code",
   "execution_count": null,
   "metadata": {
    "collapsed": true
   },
   "outputs": [],
   "source": []
  }
 ],
 "metadata": {
  "kernelspec": {
   "display_name": "Python [default]",
   "language": "python",
   "name": "python2"
  },
  "language_info": {
   "codemirror_mode": {
    "name": "ipython",
    "version": 2
   },
   "file_extension": ".py",
   "mimetype": "text/x-python",
   "name": "python",
   "nbconvert_exporter": "python",
   "pygments_lexer": "ipython2",
   "version": "2.7.13"
  }
 },
 "nbformat": 4,
 "nbformat_minor": 2
}
