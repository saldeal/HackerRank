{
 "cells": [
  {
   "cell_type": "markdown",
   "metadata": {},
   "source": [
    "# Stock predictions"
   ]
  },
  {
   "cell_type": "code",
   "execution_count": 19,
   "metadata": {
    "collapsed": true
   },
   "outputs": [],
   "source": [
    "import numpy as np"
   ]
  },
  {
   "cell_type": "code",
   "execution_count": 37,
   "metadata": {},
   "outputs": [],
   "source": [
    "#!/usr/bin/py\n",
    "def printTransactions(m, k, d, name, owned, prices):\n",
    "    '''Print transations \n",
    "    \n",
    "    Arguments:\n",
    "    m: Float. Money left\n",
    "    k: Integer. Number of stocks\n",
    "    d: Integer. Days left\n",
    "    name: Array of strings. Stock names\n",
    "    owned: Array of integers. Stocks owned \n",
    "    prices: 2d integer array. Prices containing k arrays of length 5\n",
    "    '''\n",
    "    \n",
    "    num_trans = 0\n",
    "    transactions = []\n",
    "    \n",
    "    # Quickest approach\n",
    "    # BUY when market is down\n",
    "    # SELL when market is up\n",
    "    # We dont use d in this simplest model\n",
    "    \n",
    "    # BUY and SELL from stocks with larger percentages of changes (day 5 - day 1)\n",
    "    # We only make 2 transactions (maximum) every day.\n",
    "    diff_day5_day1 = []\n",
    "    \n",
    "    for i, p in enumerate(prices):\n",
    "        num = (p[4] - p[0])/p[0]\n",
    "        diff_day5_day1.append(num)\n",
    "    \n",
    "    # Get max and min values\n",
    "    #index_sell = np.argmax(diff_day5_day1)\n",
    "    #index_buy = np.argmin(diff_day5_day1)\n",
    "    \n",
    "    index_sell, index_buy = 0, 0\n",
    "    max_value = -1 # As we work with percentages \n",
    "    min_value = 1  # As we work with percentages\n",
    "    for i, d in enumerate(diff_day5_day1):\n",
    "        if (d >= max_value):\n",
    "            max_value = d\n",
    "            index_sell = i\n",
    "        if (d <= min_value):\n",
    "            min_value = d\n",
    "            index_buy = i\n",
    "    \n",
    "\n",
    "    # SELL all stock from the largest positive change\n",
    "    if (diff_day5_day1[index_sell] > 0 and owned[index_sell] > 0): # Only sell if diff is positive and we have stocks      \n",
    "        num_trans += 1\n",
    "              \n",
    "        # Build the transaction\n",
    "        transactions.append(name[index_sell] + ' SELL ' + str(owned[index_sell]))\n",
    "        \n",
    "    # BUY all stock from the largest negative change\n",
    "    if (diff_day5_day1[index_buy] < 0): # Only buy if diff is positive\n",
    "        num_trans += 1\n",
    "    \n",
    "        # Calculate how many stocks to buy\n",
    "        stock_price = prices[index_buy][-1]\n",
    "        num_stocks = int(m/stock_price)\n",
    "        \n",
    "        # Build the transaction\n",
    "        transactions.append(name[index_sell] + ' BUY ' + str(num_stocks))\n",
    "        \n",
    "    print(num_trans)\n",
    "    for t in transactions:\n",
    "        print(t) \n",
    "        \n",
    "    "
   ]
  },
  {
   "cell_type": "markdown",
   "metadata": {},
   "source": [
    "**Sample Input**\n",
    "\n",
    "```\n",
    "90 2 400\n",
    "iStreet 10 4.54 5.53 6.56 5.54 7.60\n",
    "HR 0 30.54 27.53 24.42 20.11 17.50\n",
    "```\n",
    "\n",
    "**Sample Output**\n",
    "\n",
    "```\n",
    "2\n",
    "iStreet SELL 10\n",
    "HR BUY 5\n",
    "```"
   ]
  },
  {
   "cell_type": "code",
   "execution_count": 2,
   "metadata": {},
   "outputs": [
    {
     "name": "stdout",
     "output_type": "stream",
     "text": [
      "90 2 400\n",
      "iStreet 10 4.54 5.53 6.56 5.54 7.60\n",
      "HR 0 30.54 27.53 24.42 20.11 17.50\n"
     ]
    }
   ],
   "source": [
    "m, k, d = [float(i) for i in raw_input().strip().split()]\n",
    "k = int(k)\n",
    "d = int(d)\n",
    "names = []\n",
    "owned = []\n",
    "prices = []\n",
    "for data in range(k):\n",
    "    temp = raw_input().strip().split()\n",
    "    names.append(temp[0])\n",
    "    owned.append(int(temp[1]))\n",
    "    prices.append([float(i) for i in temp[2:7]])"
   ]
  },
  {
   "cell_type": "code",
   "execution_count": 9,
   "metadata": {},
   "outputs": [
    {
     "data": {
      "text/plain": [
       "[[4.54, 5.53, 6.56, 5.54, 7.6], [30.54, 27.53, 24.42, 20.11, 17.5]]"
      ]
     },
     "execution_count": 9,
     "metadata": {},
     "output_type": "execute_result"
    }
   ],
   "source": [
    "prices"
   ]
  },
  {
   "cell_type": "code",
   "execution_count": 38,
   "metadata": {},
   "outputs": [
    {
     "name": "stdout",
     "output_type": "stream",
     "text": [
      "2\n",
      "iStreet SELL 10\n",
      "iStreet BUY 5\n"
     ]
    }
   ],
   "source": [
    "printTransactions(m, k, d, names, owned, prices)"
   ]
  },
  {
   "cell_type": "code",
   "execution_count": 42,
   "metadata": {},
   "outputs": [
    {
     "data": {
      "text/plain": [
       "[6.56, 5.54, 7.6]"
      ]
     },
     "execution_count": 42,
     "metadata": {},
     "output_type": "execute_result"
    }
   ],
   "source": [
    "prices[0][-3:]"
   ]
  },
  {
   "cell_type": "code",
   "execution_count": 49,
   "metadata": {},
   "outputs": [],
   "source": [
    "prices = np.array(prices)\n",
    "deviations = prices.std(1)"
   ]
  },
  {
   "cell_type": "code",
   "execution_count": 51,
   "metadata": {},
   "outputs": [
    {
     "name": "stdout",
     "output_type": "stream",
     "text": [
      "1\n",
      "0\n"
     ]
    }
   ],
   "source": []
  },
  {
   "cell_type": "code",
   "execution_count": null,
   "metadata": {
    "collapsed": true
   },
   "outputs": [],
   "source": []
  }
 ],
 "metadata": {
  "kernelspec": {
   "display_name": "Python [default]",
   "language": "python",
   "name": "python2"
  },
  "language_info": {
   "codemirror_mode": {
    "name": "ipython",
    "version": 2
   },
   "file_extension": ".py",
   "mimetype": "text/x-python",
   "name": "python",
   "nbconvert_exporter": "python",
   "pygments_lexer": "ipython2",
   "version": "2.7.13"
  }
 },
 "nbformat": 4,
 "nbformat_minor": 2
}
