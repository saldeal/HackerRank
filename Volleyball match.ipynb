{
 "cells": [
  {
   "cell_type": "markdown",
   "metadata": {},
   "source": [
    "# Volleyball match\n",
    "Tatyana is a big sports fan and she likes volleyball a lot! She writes down the final scores of the game after it has ended in her notebook.\n",
    "\n",
    "If you are not familiar with the rules of volleyball, here's a brief:\n",
    "\n",
    "    2 teams play in total\n",
    "    During the course of the game, each team gets points, and thus increases its score by 1.\n",
    "    The initial score is 0 for both teams.\n",
    "\n",
    "The game ends when\n",
    "\n",
    "    One of the teams gets 25 points and another team has < 24 points ( strictly less than 24).\n",
    "    If the score ties at 24:24, the teams continue to play until the absolute difference between the scores is 2.\n",
    "\n",
    "Given the final score of a game in the format A:*B* i.e., the first team has scored A points and the second has scored B points, can you print the number of different sequences of getting points by teams that leads to this final score?\n",
    "\n",
    "**Input Format**\n",
    "\n",
    "The first line contains A and the second line contains B.\n",
    "\n",
    "**Constraints**\n",
    "\n",
    "0 ≤ A , B ≤ 10\\*\\*9\n",
    "\n",
    "**Output Format**\n",
    "\n",
    "Output the number of different sequences of getting points by the teams that leads to the final score A : B. Final means that the game should be over after this score is reached. If the number is larger than 10\\*\\*9+7, output number modulo 10\\*\\*9 + 7. Print 0 if no such volleyball game ends with the given score. \n",
    "\n",
    "**Example input #00**\n",
    "```\n",
    "3\n",
    "25\n",
    "```\n",
    "** Example output #00**\n",
    "```\n",
    "2925\n",
    "```\n",
    "**Example input #01**\n",
    "```\n",
    "24\n",
    "17\n",
    "```\n",
    "**Example output #01**\n",
    "```\n",
    "0\n",
    "```"
   ]
  },
  {
   "cell_type": "code",
   "execution_count": 73,
   "metadata": {},
   "outputs": [],
   "source": [
    "import sys\n",
    "import os\n",
    "import math\n",
    "\n",
    "def volleyball(A, B):\n",
    "    \"\"\"Returns the number of possible ways to reach the score A-B\n",
    "    \n",
    "    Arguments:\n",
    "    A: Score of Team A. Integer \n",
    "    B: Score of Team B. Integer\n",
    "    \n",
    "    return: number of combinations. If score is incorrect, returns 0. Integer\n",
    "    \"\"\"\n",
    "    \n",
    "    # Limit the size of the result\n",
    "    mod = 10 ** 9 + 7\n",
    "    \n",
    "    # First check if the score of actually correct according to volleyball rules\n",
    "    if (A < 25 and B < 25):\n",
    "        return 0\n",
    "    if (abs(A-B)<2 or (abs(A-B) > 2 and (A >= 24) and (B >=24))):\n",
    "        return 0\n",
    "    \n",
    "    max_score = max(A,B)\n",
    "    min_score = min(A,B)\n",
    "    \n",
    "    # Calculate the number of possible ways to reach that score\n",
    "    \n",
    "    # The number of games played is A+B\n",
    "    # We know that the winning team did the last point\n",
    "    # If the game finishes with one team at 25 points, \n",
    "    # the result is how many ways we can choose 'min_score' from among 'max_score' points, \n",
    "    # which is the binomial (max+min-1 min) = max+min-1! / min!(max-min)!\n",
    "    if (max_score == 25):\n",
    "        comb = math.factorial(max_score + min_score - 1) // (math.factorial(min_score) * math.factorial(max_score - 1))\n",
    "        return comb % mod\n",
    "    \n",
    "    # After 24-24, we have two options every two points: Binomial (24+24 24)* 2**(B-24)\n",
    "    else:\n",
    "        comb_48_24 = math.factorial(48) // (math.factorial(24) * math.factorial(48 - 24))\n",
    "        return (comb_48_24 * pow(2, min_score - 24, mod) )  % mod "
   ]
  },
  {
   "cell_type": "code",
   "execution_count": 46,
   "metadata": {},
   "outputs": [
    {
     "data": {
      "text/plain": [
       "2925L"
      ]
     },
     "execution_count": 46,
     "metadata": {},
     "output_type": "execute_result"
    }
   ],
   "source": [
    "volleyball(3,25)"
   ]
  },
  {
   "cell_type": "code",
   "execution_count": 74,
   "metadata": {},
   "outputs": [
    {
     "data": {
      "text/plain": [
       "940343585L"
      ]
     },
     "execution_count": 74,
     "metadata": {},
     "output_type": "execute_result"
    }
   ],
   "source": [
    "volleyball(36,34)"
   ]
  },
  {
   "cell_type": "code",
   "execution_count": 76,
   "metadata": {},
   "outputs": [
    {
     "name": "stdout",
     "output_type": "stream",
     "text": [
      "34\n",
      "36\n"
     ]
    },
    {
     "data": {
      "text/plain": [
       "940343585L"
      ]
     },
     "execution_count": 76,
     "metadata": {},
     "output_type": "execute_result"
    }
   ],
   "source": [
    "# Read inputs from a file, or STDIN\n",
    "A = int(raw_input())\n",
    "B = int(raw_input())\n",
    "print(volleyball(A,B))"
   ]
  },
  {
   "cell_type": "code",
   "execution_count": null,
   "metadata": {
    "collapsed": true
   },
   "outputs": [],
   "source": []
  }
 ],
 "metadata": {
  "kernelspec": {
   "display_name": "Python [default]",
   "language": "python",
   "name": "python2"
  },
  "language_info": {
   "codemirror_mode": {
    "name": "ipython",
    "version": 2
   },
   "file_extension": ".py",
   "mimetype": "text/x-python",
   "name": "python",
   "nbconvert_exporter": "python",
   "pygments_lexer": "ipython2",
   "version": "2.7.13"
  }
 },
 "nbformat": 4,
 "nbformat_minor": 2
}
